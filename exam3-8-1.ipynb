{
 "cells": [
  {
   "cell_type": "markdown",
   "id": "6534df79",
   "metadata": {},
   "source": [
    "## 1. MNIST 데이터셋으로 테스트 세트에서 97% 정확도 달성하기"
   ]
  },
  {
   "cell_type": "code",
   "execution_count": 10,
   "id": "b6f7d213",
   "metadata": {},
   "outputs": [],
   "source": [
    "import warnings\n",
    "warnings.filterwarnings('ignore')"
   ]
  },
  {
   "cell_type": "code",
   "execution_count": 2,
   "id": "291bcc85",
   "metadata": {},
   "outputs": [],
   "source": [
    "from sklearn.datasets import fetch_openml\n",
    "mnist = fetch_openml(\"mnist_784\", version=1)\n",
    "#mnist"
   ]
  },
  {
   "cell_type": "code",
   "execution_count": 3,
   "id": "3aa2cd29",
   "metadata": {},
   "outputs": [
    {
     "data": {
      "text/plain": [
       "((70000, 784), (70000,))"
      ]
     },
     "execution_count": 3,
     "metadata": {},
     "output_type": "execute_result"
    }
   ],
   "source": [
    "import numpy as np\n",
    "X, y = mnist[\"data\"], mnist[\"target\"]\n",
    "y = y.astype(np.int)\n",
    "\n",
    "X.shape, y.shape"
   ]
  },
  {
   "cell_type": "code",
   "execution_count": 4,
   "id": "2edabad2",
   "metadata": {},
   "outputs": [
    {
     "data": {
      "text/plain": [
       "((60000, 784), (10000, 784), (60000,), (10000,))"
      ]
     },
     "execution_count": 4,
     "metadata": {},
     "output_type": "execute_result"
    }
   ],
   "source": [
    "train_test_idx = 60000\n",
    "X_train, X_test, y_train, y_test = X[:train_test_idx], X[train_test_idx:], y[:train_test_idx], y[train_test_idx:]\n",
    "X_train.shape, X_test.shape, y_train.shape, y_test.shape"
   ]
  },
  {
   "cell_type": "code",
   "execution_count": 5,
   "id": "5775efc6",
   "metadata": {},
   "outputs": [],
   "source": [
    "shuffle_index = np.random.permutation(train_test_idx)"
   ]
  },
  {
   "cell_type": "code",
   "execution_count": 6,
   "id": "ade07f35",
   "metadata": {},
   "outputs": [
    {
     "data": {
      "text/plain": [
       "((60000, 784), (60000,))"
      ]
     },
     "execution_count": 6,
     "metadata": {},
     "output_type": "execute_result"
    }
   ],
   "source": [
    "X_train, y_train = X_train[shuffle_index], y_train[shuffle_index]\n",
    "X_train.shape, y_train.shape"
   ]
  },
  {
   "cell_type": "code",
   "execution_count": 7,
   "id": "8fc8312a",
   "metadata": {},
   "outputs": [],
   "source": [
    "from sklearn.preprocessing import StandardScaler, MinMaxScaler\n",
    "standard_scaler = StandardScaler()\n",
    "X_train_standard = standard_scaler.fit_transform(X_train.astype(np.float64))\n",
    "X_test_standard = standard_scaler.transform(X_test.astype(np.float64))\n",
    "\n",
    "minmax_scaler = MinMaxScaler()\n",
    "X_train_minmax = minmax_scaler.fit_transform(X_train.astype(np.float64))\n",
    "X_test_minmax = minmax_scaler.transform(X_test.astype(np.float64))"
   ]
  },
  {
   "cell_type": "markdown",
   "id": "db626e2f",
   "metadata": {},
   "source": [
    "### 1.1 random forest"
   ]
  },
  {
   "cell_type": "code",
   "execution_count": 8,
   "id": "e3ddb449",
   "metadata": {},
   "outputs": [],
   "source": [
    "from sklearn.ensemble import RandomForestClassifier\n",
    "forest_clf = RandomForestClassifier(random_state=42)\n",
    "forest_clf_standard = RandomForestClassifier(random_state=42)\n",
    "forest_clf_minmax = RandomForestClassifier(random_state=42)"
   ]
  },
  {
   "cell_type": "code",
   "execution_count": 11,
   "id": "89971c71",
   "metadata": {},
   "outputs": [
    {
     "data": {
      "text/plain": [
       "RandomForestClassifier(bootstrap=True, class_weight=None, criterion='gini',\n",
       "                       max_depth=None, max_features='auto', max_leaf_nodes=None,\n",
       "                       min_impurity_decrease=0.0, min_impurity_split=None,\n",
       "                       min_samples_leaf=1, min_samples_split=2,\n",
       "                       min_weight_fraction_leaf=0.0, n_estimators=10,\n",
       "                       n_jobs=None, oob_score=False, random_state=42, verbose=0,\n",
       "                       warm_start=False)"
      ]
     },
     "execution_count": 11,
     "metadata": {},
     "output_type": "execute_result"
    }
   ],
   "source": [
    "forest_clf.fit(X_train, y_train)\n",
    "forest_clf_standard.fit(X_train_standard, y_train)\n",
    "forest_clf_minmax.fit(X_train_minmax, y_train)"
   ]
  },
  {
   "cell_type": "code",
   "execution_count": null,
   "id": "48223d52",
   "metadata": {},
   "outputs": [],
   "source": [
    "from sklearn.model_selection import cross_val_score"
   ]
  },
  {
   "cell_type": "code",
   "execution_count": 12,
   "id": "eb35c1b9",
   "metadata": {},
   "outputs": [
    {
     "name": "stdout",
     "output_type": "stream",
     "text": [
      "normal: 0.8922174893326219\n",
      "standard: 0.8925174600615137\n",
      "minmax: 0.8920172289941819\n"
     ]
    }
   ],
   "source": [
    "from sklearn.model_selection import cross_val_score\n",
    "print(f\"normal: {np.mean(cross_val_score(forest_clf, X_test, y_test, cv=3, scoring='accuracy'))}\")\n",
    "print(f\"standard: {np.mean(cross_val_score(forest_clf_standard, X_test_standard, y_test, cv=3, scoring='accuracy'))}\")\n",
    "print(f\"minmax: {np.mean(cross_val_score(forest_clf_minmax, X_test_minmax, y_test, cv=3, scoring='accuracy'))}\")"
   ]
  },
  {
   "cell_type": "markdown",
   "id": "ecce7977",
   "metadata": {},
   "source": [
    "### 1.1.1 random forest 하이퍼파라미터 서치"
   ]
  },
  {
   "cell_type": "code",
   "execution_count": 36,
   "id": "b3651aee",
   "metadata": {},
   "outputs": [
    {
     "name": "stdout",
     "output_type": "stream",
     "text": [
      "running: 2642.6802349090576\n"
     ]
    }
   ],
   "source": [
    "import time\n",
    "from sklearn.model_selection import GridSearchCV\n",
    "\n",
    "param_grid = [\n",
    "    {\n",
    "        \"n_estimators\": [i for i in range(10, 251, 10)]\n",
    "    }\n",
    "]\n",
    "\n",
    "knn_clf = RandomForestClassifier(random_state=42)\n",
    "\n",
    "grid_search = GridSearchCV(knn_clf, param_grid, cv=3, scoring=\"accuracy\", return_train_score=True)\n",
    "t = time.time()\n",
    "grid_search.fit(X_train_minmax, y_train)\n",
    "print(f\"running: {time.time() - t}\")"
   ]
  },
  {
   "cell_type": "code",
   "execution_count": 37,
   "id": "d33203b4",
   "metadata": {},
   "outputs": [
    {
     "data": {
      "text/plain": [
       "({'n_estimators': 240},\n",
       " RandomForestClassifier(bootstrap=True, class_weight=None, criterion='gini',\n",
       "                        max_depth=None, max_features='auto', max_leaf_nodes=None,\n",
       "                        min_impurity_decrease=0.0, min_impurity_split=None,\n",
       "                        min_samples_leaf=1, min_samples_split=2,\n",
       "                        min_weight_fraction_leaf=0.0, n_estimators=240,\n",
       "                        n_jobs=None, oob_score=False, random_state=42, verbose=0,\n",
       "                        warm_start=False))"
      ]
     },
     "execution_count": 37,
     "metadata": {},
     "output_type": "execute_result"
    }
   ],
   "source": [
    "grid_search.best_params_, grid_search.best_estimator_"
   ]
  },
  {
   "cell_type": "code",
   "execution_count": 38,
   "id": "910b0f3e",
   "metadata": {},
   "outputs": [],
   "source": [
    "res = grid_search.cv_results_"
   ]
  },
  {
   "cell_type": "code",
   "execution_count": 39,
   "id": "bf4f6a55",
   "metadata": {},
   "outputs": [
    {
     "name": "stdout",
     "output_type": "stream",
     "text": [
      "0.94095 {'n_estimators': 10}\n",
      "0.95487 {'n_estimators': 20}\n",
      "0.95888 {'n_estimators': 30}\n",
      "0.96177 {'n_estimators': 40}\n",
      "0.96253 {'n_estimators': 50}\n",
      "0.96377 {'n_estimators': 60}\n",
      "0.9639 {'n_estimators': 70}\n",
      "0.96447 {'n_estimators': 80}\n",
      "0.96485 {'n_estimators': 90}\n",
      "0.96498 {'n_estimators': 100}\n",
      "0.96525 {'n_estimators': 110}\n",
      "0.96558 {'n_estimators': 120}\n",
      "0.9657 {'n_estimators': 130}\n",
      "0.96562 {'n_estimators': 140}\n",
      "0.96608 {'n_estimators': 150}\n",
      "0.966 {'n_estimators': 160}\n",
      "0.96607 {'n_estimators': 170}\n",
      "0.9665 {'n_estimators': 180}\n",
      "0.96635 {'n_estimators': 190}\n",
      "0.96642 {'n_estimators': 200}\n",
      "0.96645 {'n_estimators': 210}\n",
      "0.96662 {'n_estimators': 220}\n",
      "0.9667 {'n_estimators': 230}\n",
      "0.967 {'n_estimators': 240}\n",
      "0.96678 {'n_estimators': 250}\n"
     ]
    }
   ],
   "source": [
    "for mean_score, params in zip(res[\"mean_test_score\"], res[\"params\"]):\n",
    "    print(round(mean_score, 5), params)"
   ]
  },
  {
   "cell_type": "code",
   "execution_count": 40,
   "id": "09d0eb17",
   "metadata": {},
   "outputs": [
    {
     "name": "stdout",
     "output_type": "stream",
     "text": [
      "tree: 10, acc: 0.8920172289941819\n",
      "tree: 20, acc: 0.918218505391749\n",
      "tree: 30, acc: 0.9276203885344841\n",
      "tree: 40, acc: 0.9315170038045809\n",
      "tree: 50, acc: 0.9342172474345353\n",
      "tree: 60, acc: 0.9366192603447817\n",
      "tree: 70, acc: 0.9353168191185514\n",
      "tree: 80, acc: 0.936815922116637\n",
      "tree: 90, acc: 0.9382170827505059\n",
      "tree: 100, acc: 0.9371175110664899\n",
      "tree: 110, acc: 0.9383172425567802\n",
      "tree: 120, acc: 0.938417343088946\n",
      "tree: 130, acc: 0.9390172532896724\n",
      "tree: 140, acc: 0.9395161048524799\n",
      "tree: 150, acc: 0.9396177050573898\n",
      "max: [150, 0.9396177050573898]\n"
     ]
    }
   ],
   "source": [
    "max_score = [0, 0] # [trees, acc]\n",
    "for trees in range(10, 151, 10):\n",
    "    forest_clf = RandomForestClassifier(n_estimators=trees, random_state=42)\n",
    "    forest_clf.fit(X_train_minmax, y_train)\n",
    "    acc = np.mean(cross_val_score(forest_clf, X_test_minmax, y_test, cv=3, scoring='accuracy'))\n",
    "    if acc > max_score[1]:\n",
    "        max_score[0] = trees\n",
    "        max_score[1] = acc\n",
    "    print(f\"tree: {trees}, acc: {acc}\")\n",
    "print(f\"max: {max_score}\")"
   ]
  },
  {
   "cell_type": "code",
   "execution_count": 42,
   "id": "f44504c5",
   "metadata": {},
   "outputs": [
    {
     "name": "stdout",
     "output_type": "stream",
     "text": [
      "acc: 0.9648\n",
      "running time: 0.37458372116088867\n"
     ]
    }
   ],
   "source": [
    "forest_clf_240 = RandomForestClassifier(n_estimators=100, random_state=42)\n",
    "forest_clf_240.fit(X_train_minmax, y_train)\n",
    "t = time.time()\n",
    "print(f\"acc: {forest_clf_240.score(X_test, y_test)}\")\n",
    "print(f\"running time: {time.time() - t}\")"
   ]
  },
  {
   "cell_type": "code",
   "execution_count": 43,
   "id": "a0ccc004",
   "metadata": {},
   "outputs": [
    {
     "data": {
      "text/plain": [
       "0.9698"
      ]
     },
     "execution_count": 43,
     "metadata": {},
     "output_type": "execute_result"
    }
   ],
   "source": [
    "forest_clf_90 = RandomForestClassifier(n_estimators=90, random_state=42)\n",
    "forest_clf_90.fit(X_train_minmax, y_train)\n",
    "forest_clf_90.score(X_test_minmax, y_test)"
   ]
  },
  {
   "cell_type": "code",
   "execution_count": 44,
   "id": "d563316c",
   "metadata": {},
   "outputs": [
    {
     "data": {
      "text/plain": [
       "0.9711"
      ]
     },
     "execution_count": 44,
     "metadata": {},
     "output_type": "execute_result"
    }
   ],
   "source": [
    "forest_clf_150 = RandomForestClassifier(n_estimators=150, random_state=42)\n",
    "forest_clf_150.fit(X_train_minmax, y_train)\n",
    "forest_clf_150.score(X_test_minmax, y_test)"
   ]
  },
  {
   "cell_type": "markdown",
   "id": "d23f1225",
   "metadata": {},
   "source": [
    "### 1.2 KNeighbor"
   ]
  },
  {
   "cell_type": "code",
   "execution_count": 48,
   "id": "72685f2c",
   "metadata": {},
   "outputs": [],
   "source": [
    "import time\n",
    "from sklearn.neighbors import KNeighborsClassifier"
   ]
  },
  {
   "cell_type": "code",
   "execution_count": null,
   "id": "fd848e80",
   "metadata": {},
   "outputs": [],
   "source": [
    "\"\"\"\n",
    "시간이 너무 오래 걸려서 아래 for loop로 최고 acc 탐색하는 방법으로 탐색 진행\n",
    "\"\"\"\n",
    "from sklearn.model_selection import GridSearchCV\n",
    "\n",
    "param_grid = [\n",
    "    {\n",
    "        \"n_neighbors\": [i for i in range(1, 15, 2)], \n",
    "        \"weights\": [\"uniform\", \"distance\"],\n",
    "        \"algorithm\": [\"ball_tree\", \"kd_tree\", \"brute\"]\n",
    "    }\n",
    "]\n",
    "\n",
    "knn_clf = KNeighborsClassifier()\n",
    "\n",
    "grid_search_knn = GridSearchCV(knn_clf, param_grid, cv=3, scoring=\"accuracy\", return_train_score=True)\n",
    "grid_search_knn.fit(X_train_minmax, y_train)"
   ]
  },
  {
   "cell_type": "code",
   "execution_count": 50,
   "id": "55f31f4b",
   "metadata": {},
   "outputs": [
    {
     "name": "stdout",
     "output_type": "stream",
     "text": [
      "n: 1, acc: 0.9691\n",
      "n: 3, acc: 0.9717\n",
      "n: 5, acc: 0.9691\n",
      "n: 7, acc: 0.97\n",
      "n: 9, acc: 0.9673\n",
      "n: 11, acc: 0.9678\n",
      "n: 13, acc: 0.9665\n",
      "knn max acc: 0.9717\n"
     ]
    }
   ],
   "source": [
    "knn_max_acc = 0\n",
    "weight = \"distance\" # uniform or distance\n",
    "algorithm = \"kd_tree\"\n",
    "for neighbors in range(1, 15, 2):\n",
    "    knn_clf = KNeighborsClassifier(n_neighbors=neighbors, weights=weight, algorithm=algorithm)\n",
    "    knn_clf.fit(X_train_minmax, y_train)\n",
    "    acc = knn_clf.score(X_test_minmax, y_test)\n",
    "    if acc > knn_max_acc:\n",
    "        knn_max_acc = acc\n",
    "    print(f\"n: {neighbors}, acc: {acc}\")\n",
    "print(f\"knn max acc: {knn_max_acc}\")"
   ]
  },
  {
   "cell_type": "code",
   "execution_count": 52,
   "id": "ef232e6f",
   "metadata": {},
   "outputs": [
    {
     "data": {
      "text/plain": [
       "0.9717"
      ]
     },
     "execution_count": 52,
     "metadata": {},
     "output_type": "execute_result"
    }
   ],
   "source": [
    "knn_clf = KNeighborsClassifier(n_neighbors=3, weights=\"distance\", algorithm=\"ball_tree\")\n",
    "knn_clf.fit(X_train_minmax, y_train)\n",
    "knn_clf.score(X_test_minmax, y_test)"
   ]
  },
  {
   "cell_type": "code",
   "execution_count": 53,
   "id": "1cac7a41",
   "metadata": {},
   "outputs": [
    {
     "data": {
      "text/plain": [
       "0.9705"
      ]
     },
     "execution_count": 53,
     "metadata": {},
     "output_type": "execute_result"
    }
   ],
   "source": [
    "knn_clf = KNeighborsClassifier(n_neighbors=3, weights=\"uniform\", algorithm=\"ball_tree\")\n",
    "knn_clf.fit(X_train_minmax, y_train)\n",
    "knn_clf.score(X_test_minmax, y_test)"
   ]
  },
  {
   "cell_type": "code",
   "execution_count": null,
   "id": "10de6a4c",
   "metadata": {},
   "outputs": [],
   "source": []
  }
 ],
 "metadata": {
  "kernelspec": {
   "display_name": "Python 3 (ipykernel)",
   "language": "python",
   "name": "python3"
  },
  "language_info": {
   "codemirror_mode": {
    "name": "ipython",
    "version": 3
   },
   "file_extension": ".py",
   "mimetype": "text/x-python",
   "name": "python",
   "nbconvert_exporter": "python",
   "pygments_lexer": "ipython3",
   "version": "3.7.16"
  }
 },
 "nbformat": 4,
 "nbformat_minor": 5
}
