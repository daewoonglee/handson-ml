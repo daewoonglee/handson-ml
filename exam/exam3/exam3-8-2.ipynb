{
 "cells": [
  {
   "cell_type": "markdown",
   "id": "b24e7529",
   "metadata": {},
   "source": [
    "### 왼, 오, 위, 아래를 한 픽셀 이동하는 함수 생성\n",
    "### 이 후 훈련 세트에 위 함수를 적용하여 테스트 세트에서 모델 정확성 측정"
   ]
  },
  {
   "cell_type": "code",
   "execution_count": 16,
   "id": "3a2bbc08",
   "metadata": {},
   "outputs": [],
   "source": [
    "import warnings\n",
    "warnings.filterwarnings(\"ignore\")"
   ]
  },
  {
   "cell_type": "code",
   "execution_count": 2,
   "id": "dc0f3855",
   "metadata": {},
   "outputs": [],
   "source": [
    "from sklearn.datasets import fetch_openml\n",
    "mnist = fetch_openml(\"mnist_784\", version=1)"
   ]
  },
  {
   "cell_type": "code",
   "execution_count": 3,
   "id": "543b4666",
   "metadata": {},
   "outputs": [
    {
     "data": {
      "text/plain": [
       "((70000, 784), (70000,))"
      ]
     },
     "execution_count": 3,
     "metadata": {},
     "output_type": "execute_result"
    }
   ],
   "source": [
    "import numpy as np\n",
    "X, y = mnist[\"data\"], mnist[\"target\"]\n",
    "y = y.astype(np.int)\n",
    "\n",
    "X.shape, y.shape"
   ]
  },
  {
   "cell_type": "code",
   "execution_count": 4,
   "id": "388425ab",
   "metadata": {},
   "outputs": [
    {
     "data": {
      "text/plain": [
       "((60000, 784), (10000, 784), (60000,), (10000,))"
      ]
     },
     "execution_count": 4,
     "metadata": {},
     "output_type": "execute_result"
    }
   ],
   "source": [
    "train_test_idx = 60000\n",
    "X_train, X_test, y_train, y_test = X[:train_test_idx], X[train_test_idx:], y[:train_test_idx], y[train_test_idx:]\n",
    "X_train.shape, X_test.shape, y_train.shape, y_test.shape"
   ]
  },
  {
   "cell_type": "code",
   "execution_count": 5,
   "id": "89428d43",
   "metadata": {},
   "outputs": [],
   "source": [
    "shuffled_idx = np.random.permutation(train_test_idx)"
   ]
  },
  {
   "cell_type": "code",
   "execution_count": 6,
   "id": "b5708e84",
   "metadata": {},
   "outputs": [
    {
     "data": {
      "text/plain": [
       "((60000, 784), (60000,))"
      ]
     },
     "execution_count": 6,
     "metadata": {},
     "output_type": "execute_result"
    }
   ],
   "source": [
    "X_train, y_train = X_train[shuffled_idx], y_train[shuffled_idx]\n",
    "X_train.shape, y_train.shape"
   ]
  },
  {
   "cell_type": "code",
   "execution_count": 7,
   "id": "823ed3f6",
   "metadata": {},
   "outputs": [],
   "source": [
    "def move_img_pixel(train_data, label_data, pixel=1, aug=5):\n",
    "    \"\"\"\n",
    "    각 위, 아래, 오른쪽, 왼쪽에 대해 데이터 증강 진행\n",
    "    픽셀을 움직일 때 잘리는 부분 버림, 보존하는 경우가 데이터 학습에 더 좋은 영향을 끼치지 않기 때문\n",
    "    \"\"\"\n",
    "    N = len(train_data)\n",
    "    vector = len(train_data[0]) # 1차원 길이\n",
    "    wh = int(vector**0.5)\n",
    "    move_pixel = wh * pixel # 1 픽셀: width(==height) 크기\n",
    "    move_X_train = np.zeros((N*5, vector))\n",
    "    move_y_train = np.zeros((N*5, 1))\n",
    "    \n",
    "    background = np.zeros(move_pixel)\n",
    "    for i, (img_data, img_label) in enumerate(zip(train_data, label_data)):\n",
    "        idx = i*aug\n",
    "        reshape_img = img_data.reshape(wh, wh)\n",
    "        move_X_train[idx] = img_data\n",
    "        move_X_train[idx+1] = np.append(img_data, background)[move_pixel:]\n",
    "        move_X_train[idx+2] = np.append(background, img_data)[:-move_pixel]\n",
    "        move_X_train[idx+3] = np.append(reshape_img.T, background)[move_pixel:].reshape(wh,wh).T.flatten()\n",
    "        move_X_train[idx+4] = np.append(background, reshape_img.T)[:-move_pixel].reshape(wh,wh).T.flatten()\n",
    "        \n",
    "        move_y_train[idx: idx+5] = img_label\n",
    "        \n",
    "    return move_X_train, move_y_train"
   ]
  },
  {
   "cell_type": "code",
   "execution_count": 8,
   "id": "9fc55e87",
   "metadata": {},
   "outputs": [],
   "source": [
    "X_train_move, y_train_move = move_img_pixel(X_train, y_train, 5)"
   ]
  },
  {
   "cell_type": "code",
   "execution_count": 9,
   "id": "6fe8c82d",
   "metadata": {},
   "outputs": [],
   "source": [
    "import matplotlib\n",
    "import matplotlib.pyplot as plt\n",
    "\n",
    "\n",
    "def mnist_imshow(imgs):\n",
    "    wh = int(len(imgs[0]) ** 0.5) # 1차원 벡터에서 2차원 벡터 크기 계산\n",
    "    row = len(imgs)\n",
    "    reshape_imgs = [img.reshape(wh, wh) for img in imgs]\n",
    "    row_images = np.concatenate(reshape_imgs, axis=1)\n",
    "    plt.imshow(row_images, cmap=matplotlib.cm.binary, interpolation=\"nearest\")\n",
    "    plt.axis(\"off\")"
   ]
  },
  {
   "cell_type": "code",
   "execution_count": 10,
   "id": "1fd7d499",
   "metadata": {},
   "outputs": [
    {
     "data": {
      "image/png": "[encoded data removed]",
      "text/plain": [
       "<Figure size 640x480 with 1 Axes>"
      ]
     },
     "metadata": {},
     "output_type": "display_data"
    }
   ],
   "source": [
    "mnist_imshow(X_train_move[:5])"
   ]
  },
  {
   "cell_type": "code",
   "execution_count": 11,
   "id": "77c8f263",
   "metadata": {},
   "outputs": [],
   "source": [
    "from sklearn.preprocessing import MinMaxScaler\n",
    "minmax_scaler = MinMaxScaler()\n",
    "X_train_minmax = minmax_scaler.fit_transform(X_train.astype(np.float64))\n",
    "X_test_minmax = minmax_scaler.transform(X_test.astype(np.float64))"
   ]
  },
  {
   "cell_type": "code",
   "execution_count": 12,
   "id": "78c88051",
   "metadata": {},
   "outputs": [],
   "source": [
    "from sklearn.ensemble import RandomForestClassifier\n",
    "from sklearn.neighbors import KNeighborsClassifier\n",
    "\n",
    "def random_forest_score(train_data, test_data):\n",
    "    # 예제 1번에서 찾은 하이퍼파라미터 값 적용, n_estimators=150\n",
    "    forest_clf = RandomForestClassifier(n_estimators=150, random_state=42)\n",
    "    forest_clf.fit(*train_data)\n",
    "    forest_clf_score = forest_clf.score(*test_data)\n",
    "    return forest_clf_score\n",
    "\n",
    "\n",
    "def kneighbors_score(train_data, test_data):\n",
    "    # 예제 1번에서 찾은 하이퍼파라미터 값 적용, n_neighbors=3, weights=distance\n",
    "    knn_clf = KNeighborsClassifier(n_neighbors=3, weights=\"distance\")\n",
    "    knn_clf.fit(*train_data)\n",
    "    knn_score = knn_clf.score(*test_data)\n",
    "    return knn_score"
   ]
  },
  {
   "cell_type": "code",
   "execution_count": 13,
   "id": "5dce7ec2",
   "metadata": {},
   "outputs": [],
   "source": [
    "def get_maximum_score(model_type, Xy_train_data, Xy_test_data):\n",
    "    if model_type == \"random_forest\":\n",
    "        get_model_score = random_forest_score\n",
    "    elif model_type == \"knn\":\n",
    "        get_model_score = kneighbors_score\n",
    "    else:\n",
    "        return\n",
    "    \n",
    "    max_score = [0, 0]\n",
    "    \n",
    "    shuffle_idx = np.random.permutation(len(X_train)*5) # 동일한 비교를 위해\n",
    "    for px in [1, 3, 5]:\n",
    "        X_train_moved, y_train_moved = move_img_pixel(*Xy_train_data, px)\n",
    "        X_train_moved = X_train_moved[shuffle_idx]\n",
    "        y_train_moved = y_train_moved[shuffle_idx]\n",
    "        \n",
    "        score = get_model_score((X_train_moved, y_train_moved), Xy_test_data)\n",
    "        if max_score[1] < score:\n",
    "            max_score[0] = px\n",
    "            max_score[1] = score\n",
    "        print(f\"move_pixel: {px}, score: {score}\")\n",
    "\n",
    "        del X_train_moved\n",
    "        del y_train_moved\n",
    "\n",
    "    print(f\"max_score move pixel: {max_score[0]}, score: {max_score[1]}\")"
   ]
  },
  {
   "cell_type": "markdown",
   "id": "cd3ba7ce",
   "metadata": {},
   "source": [
    "# 예제 2번 성능 테스트"
   ]
  },
  {
   "cell_type": "markdown",
   "id": "55b0218b",
   "metadata": {},
   "source": [
    "**px 이동에 따른 성능은 px 이동이 커질수록 성능 하락**\n",
    "\n",
    "test set은 정중앙에 숫자가 위치하고 있기에, px을 더 많이 움직여 중앙을 벗어날수록 성능 하락"
   ]
  },
  {
   "cell_type": "markdown",
   "id": "02b1998b",
   "metadata": {},
   "source": [
    "### 1. random forest 0.9711(예제 1번 성능) -> 0.9804 성능 증진"
   ]
  },
  {
   "cell_type": "code",
   "execution_count": 17,
   "id": "bcfe2bd6",
   "metadata": {},
   "outputs": [
    {
     "name": "stdout",
     "output_type": "stream",
     "text": [
      "move_pixel: 1, score: 0.9804\n",
      "move_pixel: 3, score: 0.9718\n",
      "move_pixel: 5, score: 0.9688\n",
      "max_score move pixel: 1, score: 0.9804\n"
     ]
    }
   ],
   "source": [
    "get_maximum_score(\"random_forest\", (X_train_minmax, y_train), (X_test_minmax, y_test))"
   ]
  },
  {
   "cell_type": "markdown",
   "id": "8d9d2792",
   "metadata": {},
   "source": [
    "### 2. knn 0.9717(예제 1번 성능) -> 0.9763 성능 증진 (1px 이동 기준)"
   ]
  },
  {
   "cell_type": "code",
   "execution_count": 18,
   "id": "23c815ff",
   "metadata": {},
   "outputs": [
    {
     "name": "stdout",
     "output_type": "stream",
     "text": [
      "move_pixel: 1, score: 0.9763\n",
      "move_pixel: 3, score: 0.9689\n",
      "move_pixel: 5, score: 0.9703\n",
      "max_score move pixel: 1, score: 0.9763\n"
     ]
    }
   ],
   "source": [
    "get_maximum_score(\"knn\", (X_train_minmax, y_train), (X_test_minmax, y_test))"
   ]
  },
  {
   "cell_type": "code",
   "execution_count": null,
   "id": "ee1abd0b",
   "metadata": {},
   "outputs": [],
   "source": []
  }
 ],
 "metadata": {
  "kernelspec": {
   "display_name": "Python 3 (ipykernel)",
   "language": "python",
   "name": "python3"
  },
  "language_info": {
   "codemirror_mode": {
    "name": "ipython",
    "version": 3
   },
   "file_extension": ".py",
   "mimetype": "text/x-python",
   "name": "python",
   "nbconvert_exporter": "python",
   "pygments_lexer": "ipython3",
   "version": "3.7.16"
  }
 },
 "nbformat": 4,
 "nbformat_minor": 5
}
